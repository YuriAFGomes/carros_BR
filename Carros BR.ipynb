{
 "cells": [
  {
   "cell_type": "code",
   "execution_count": 74,
   "id": "4ce27c4f",
   "metadata": {},
   "outputs": [],
   "source": [
    "import tensorflow as tf\n",
    "from tensorflow import keras\n",
    "from tensorflow.keras import layers\n",
    "from tensorflow.keras.models import Sequential\n",
    "from tensorflow.keras.preprocessing.image import ImageDataGenerator"
   ]
  },
  {
   "cell_type": "code",
   "execution_count": 75,
   "id": "b3653ba0",
   "metadata": {},
   "outputs": [],
   "source": [
    "data_dir = 'imagens'\n",
    "img_height = 300\n",
    "img_width = 300\n",
    "batch_size = 32"
   ]
  },
  {
   "cell_type": "code",
   "execution_count": 76,
   "id": "0397d9b6",
   "metadata": {},
   "outputs": [
    {
     "name": "stdout",
     "output_type": "stream",
     "text": [
      "Found 2106 files belonging to 10 classes.\n",
      "Using 1685 files for training.\n"
     ]
    }
   ],
   "source": [
    "train_ds = tf.keras.utils.image_dataset_from_directory(\n",
    "    data_dir,\n",
    "    validation_split=0.2,\n",
    "    subset=\"training\",\n",
    "    seed=123,\n",
    "    image_size=(img_height, img_width),\n",
    "    batch_size=batch_size\n",
    ")\n",
    "class_names = train_ds.class_names"
   ]
  },
  {
   "cell_type": "code",
   "execution_count": 77,
   "id": "f186ade7",
   "metadata": {},
   "outputs": [
    {
     "name": "stdout",
     "output_type": "stream",
     "text": [
      "Found 2106 files belonging to 10 classes.\n",
      "Using 421 files for validation.\n"
     ]
    }
   ],
   "source": [
    "val_ds = tf.keras.utils.image_dataset_from_directory(\n",
    "    data_dir,\n",
    "    validation_split = 0.2,\n",
    "    subset = \"validation\",\n",
    "    seed=123,\n",
    "    image_size=(img_height, img_width),\n",
    "    batch_size=batch_size\n",
    ")"
   ]
  },
  {
   "cell_type": "code",
   "execution_count": 78,
   "id": "e567db11",
   "metadata": {},
   "outputs": [],
   "source": [
    "AUTOTUNE = tf.data.AUTOTUNE\n",
    "\n",
    "train_ds = train_ds.cache().shuffle(1000).prefetch(buffer_size=AUTOTUNE)\n",
    "val_ds = val_ds.cache().prefetch(buffer_size=AUTOTUNE)"
   ]
  },
  {
   "cell_type": "code",
   "execution_count": 79,
   "id": "d019ecde",
   "metadata": {
    "scrolled": true
   },
   "outputs": [],
   "source": [
    "num_classes = len(class_names)\n",
    "\n",
    "model = Sequential([\n",
    "  layers.Rescaling(1./255, input_shape=(img_height, img_width, 3)),\n",
    "    layers.RandomFlip(),\n",
    "    layers.RandomRotation(0.1),\n",
    "    layers.Conv2D(16, 3, padding='same', activation='relu'),\n",
    "  layers.MaxPooling2D(),\n",
    "  layers.Conv2D(32, 3, padding='same', activation='relu'),\n",
    "  layers.MaxPooling2D(),\n",
    "  layers.Conv2D(64, 3, padding='same', activation='relu'),\n",
    "  layers.MaxPooling2D(),\n",
    "  layers.Flatten(),\n",
    "  layers.Dense(128, activation='relu'),\n",
    "  layers.Dense(num_classes)\n",
    "])"
   ]
  },
  {
   "cell_type": "code",
   "execution_count": 80,
   "id": "1055aa64",
   "metadata": {},
   "outputs": [],
   "source": [
    "model.compile(optimizer='adam',\n",
    "             loss=tf.keras.losses.SparseCategoricalCrossentropy(from_logits=True),\n",
    "             metrics=['accuracy'])"
   ]
  },
  {
   "cell_type": "code",
   "execution_count": null,
   "id": "f09bbea4",
   "metadata": {},
   "outputs": [
    {
     "name": "stdout",
     "output_type": "stream",
     "text": [
      "Epoch 1/100\n",
      "53/53 [==============================] - 87s 2s/step - loss: 2.6614 - accuracy: 0.1157 - val_loss: 2.3033 - val_accuracy: 0.1283\n",
      "Epoch 2/100\n",
      "53/53 [==============================] - 82s 2s/step - loss: 2.2613 - accuracy: 0.1555 - val_loss: 2.2579 - val_accuracy: 0.1615\n",
      "Epoch 3/100\n",
      "53/53 [==============================] - 79s 1s/step - loss: 2.2117 - accuracy: 0.1828 - val_loss: 2.1828 - val_accuracy: 0.1853\n",
      "Epoch 4/100\n",
      "53/53 [==============================] - 83s 2s/step - loss: 2.1630 - accuracy: 0.2059 - val_loss: 2.1727 - val_accuracy: 0.2209\n",
      "Epoch 5/100\n",
      "53/53 [==============================] - 79s 1s/step - loss: 2.1320 - accuracy: 0.1976 - val_loss: 2.1104 - val_accuracy: 0.2138\n",
      "Epoch 6/100\n",
      "53/53 [==============================] - 77s 1s/step - loss: 2.1062 - accuracy: 0.2320 - val_loss: 2.1418 - val_accuracy: 0.1971\n",
      "Epoch 7/100\n",
      "53/53 [==============================] - 73s 1s/step - loss: 2.0901 - accuracy: 0.2226 - val_loss: 2.0848 - val_accuracy: 0.2613\n",
      "Epoch 8/100\n",
      "45/53 [========================>.....] - ETA: 12s - loss: 2.0509 - accuracy: 0.2375"
     ]
    }
   ],
   "source": [
    "epochs = 100\n",
    "history = model.fit(\n",
    "    train_ds,\n",
    "    validation_data = val_ds,\n",
    "    epochs = epochs\n",
    ")"
   ]
  },
  {
   "cell_type": "code",
   "execution_count": null,
   "id": "9fec6292",
   "metadata": {},
   "outputs": [],
   "source": []
  }
 ],
 "metadata": {
  "kernelspec": {
   "display_name": "Python 3 (ipykernel)",
   "language": "python",
   "name": "python3"
  },
  "language_info": {
   "codemirror_mode": {
    "name": "ipython",
    "version": 3
   },
   "file_extension": ".py",
   "mimetype": "text/x-python",
   "name": "python",
   "nbconvert_exporter": "python",
   "pygments_lexer": "ipython3",
   "version": "3.10.1"
  }
 },
 "nbformat": 4,
 "nbformat_minor": 5
}
