{
 "cells": [
  {
   "cell_type": "code",
   "execution_count": 74,
   "id": "4ce27c4f",
   "metadata": {},
   "outputs": [],
   "source": [
    "import tensorflow as tf\n",
    "from tensorflow import keras\n",
    "from tensorflow.keras import layers\n",
    "from tensorflow.keras.models import Sequential\n",
    "from tensorflow.keras.preprocessing.image import ImageDataGenerator"
   ]
  },
  {
   "cell_type": "code",
   "execution_count": 75,
   "id": "b3653ba0",
   "metadata": {},
   "outputs": [],
   "source": [
    "data_dir = 'imagens'\n",
    "img_height = 300\n",
    "img_width = 300\n",
    "batch_size = 32"
   ]
  },
  {
   "cell_type": "code",
   "execution_count": 76,
   "id": "0397d9b6",
   "metadata": {},
   "outputs": [
    {
     "name": "stdout",
     "output_type": "stream",
     "text": [
      "Found 2106 files belonging to 10 classes.\n",
      "Using 1685 files for training.\n"
     ]
    }
   ],
   "source": [
    "train_ds = tf.keras.utils.image_dataset_from_directory(\n",
    "    data_dir,\n",
    "    validation_split=0.2,\n",
    "    subset=\"training\",\n",
    "    seed=123,\n",
    "    image_size=(img_height, img_width),\n",
    "    batch_size=batch_size\n",
    ")\n",
    "class_names = train_ds.class_names"
   ]
  },
  {
   "cell_type": "code",
   "execution_count": 77,
   "id": "f186ade7",
   "metadata": {},
   "outputs": [
    {
     "name": "stdout",
     "output_type": "stream",
     "text": [
      "Found 2106 files belonging to 10 classes.\n",
      "Using 421 files for validation.\n"
     ]
    }
   ],
   "source": [
    "val_ds = tf.keras.utils.image_dataset_from_directory(\n",
    "    data_dir,\n",
    "    validation_split = 0.2,\n",
    "    subset = \"validation\",\n",
    "    seed=123,\n",
    "    image_size=(img_height, img_width),\n",
    "    batch_size=batch_size\n",
    ")"
   ]
  },
  {
   "cell_type": "code",
   "execution_count": 78,
   "id": "e567db11",
   "metadata": {},
   "outputs": [],
   "source": [
    "AUTOTUNE = tf.data.AUTOTUNE\n",
    "\n",
    "train_ds = train_ds.cache().shuffle(1000).prefetch(buffer_size=AUTOTUNE)\n",
    "val_ds = val_ds.cache().prefetch(buffer_size=AUTOTUNE)"
   ]
  },
  {
   "cell_type": "code",
   "execution_count": 79,
   "id": "d019ecde",
   "metadata": {
    "scrolled": true
   },
   "outputs": [],
   "source": [
    "num_classes = len(class_names)\n",
    "\n",
    "model = Sequential([\n",
    "  layers.Rescaling(1./255, input_shape=(img_height, img_width, 3)),\n",
    "    layers.RandomFlip(),\n",
    "    layers.RandomRotation(0.1),\n",
    "    layers.Conv2D(16, 3, padding='same', activation='relu'),\n",
    "  layers.MaxPooling2D(),\n",
    "  layers.Conv2D(32, 3, padding='same', activation='relu'),\n",
    "  layers.MaxPooling2D(),\n",
    "  layers.Conv2D(64, 3, padding='same', activation='relu'),\n",
    "  layers.MaxPooling2D(),\n",
    "  layers.Flatten(),\n",
    "  layers.Dense(128, activation='relu'),\n",
    "  layers.Dense(num_classes)\n",
    "])"
   ]
  },
  {
   "cell_type": "code",
   "execution_count": 80,
   "id": "1055aa64",
   "metadata": {},
   "outputs": [],
   "source": [
    "model.compile(optimizer='adam',\n",
    "             loss=tf.keras.losses.SparseCategoricalCrossentropy(from_logits=True),\n",
    "             metrics=['accuracy'])"
   ]
  },
  {
   "cell_type": "code",
   "execution_count": null,
   "id": "f09bbea4",
   "metadata": {},
   "outputs": [
    {
     "name": "stdout",
     "output_type": "stream",
     "text": [
      "Epoch 1/100\n",
      "53/53 [==============================] - 87s 2s/step - loss: 2.6614 - accuracy: 0.1157 - val_loss: 2.3033 - val_accuracy: 0.1283\n",
      "Epoch 2/100\n",
      "53/53 [==============================] - 82s 2s/step - loss: 2.2613 - accuracy: 0.1555 - val_loss: 2.2579 - val_accuracy: 0.1615\n",
      "Epoch 3/100\n",
      "53/53 [==============================] - 79s 1s/step - loss: 2.2117 - accuracy: 0.1828 - val_loss: 2.1828 - val_accuracy: 0.1853\n",
      "Epoch 4/100\n",
      "53/53 [==============================] - 83s 2s/step - loss: 2.1630 - accuracy: 0.2059 - val_loss: 2.1727 - val_accuracy: 0.2209\n",
      "Epoch 5/100\n",
      "53/53 [==============================] - 79s 1s/step - loss: 2.1320 - accuracy: 0.1976 - val_loss: 2.1104 - val_accuracy: 0.2138\n",
      "Epoch 6/100\n",
      "53/53 [==============================] - 77s 1s/step - loss: 2.1062 - accuracy: 0.2320 - val_loss: 2.1418 - val_accuracy: 0.1971\n",
      "Epoch 7/100\n",
      "53/53 [==============================] - 73s 1s/step - loss: 2.0901 - accuracy: 0.2226 - val_loss: 2.0848 - val_accuracy: 0.2613\n",
      "Epoch 8/100\n",
      "53/53 [==============================] - 87s 2s/step - loss: 2.0583 - accuracy: 0.2421 - val_loss: 2.1110 - val_accuracy: 0.2138\n",
      "Epoch 9/100\n",
      "53/53 [==============================] - 91s 2s/step - loss: 2.0557 - accuracy: 0.2582 - val_loss: 2.0981 - val_accuracy: 0.2233\n",
      "Epoch 10/100\n",
      "53/53 [==============================] - 82s 2s/step - loss: 1.9730 - accuracy: 0.2813 - val_loss: 2.1153 - val_accuracy: 0.2399\n",
      "Epoch 11/100\n",
      "53/53 [==============================] - 85s 2s/step - loss: 1.9424 - accuracy: 0.2884 - val_loss: 2.1194 - val_accuracy: 0.2518\n",
      "Epoch 12/100\n",
      "53/53 [==============================] - 89s 2s/step - loss: 1.9097 - accuracy: 0.3039 - val_loss: 2.1206 - val_accuracy: 0.2732\n",
      "Epoch 13/100\n",
      "53/53 [==============================] - 86s 2s/step - loss: 1.8554 - accuracy: 0.3169 - val_loss: 2.1480 - val_accuracy: 0.2447\n",
      "Epoch 14/100\n",
      "53/53 [==============================] - 82s 2s/step - loss: 1.8675 - accuracy: 0.3193 - val_loss: 2.1488 - val_accuracy: 0.2684\n",
      "Epoch 15/100\n",
      "53/53 [==============================] - 86s 2s/step - loss: 1.8028 - accuracy: 0.3496 - val_loss: 2.1690 - val_accuracy: 0.2969\n",
      "Epoch 16/100\n",
      "53/53 [==============================] - 86s 2s/step - loss: 1.7719 - accuracy: 0.3614 - val_loss: 2.1278 - val_accuracy: 0.2637\n",
      "Epoch 17/100\n",
      "53/53 [==============================] - 78s 1s/step - loss: 1.7448 - accuracy: 0.3680 - val_loss: 2.1528 - val_accuracy: 0.2827\n",
      "Epoch 18/100\n",
      "53/53 [==============================] - 84s 2s/step - loss: 1.7250 - accuracy: 0.3840 - val_loss: 2.0714 - val_accuracy: 0.3207\n",
      "Epoch 19/100\n",
      "53/53 [==============================] - 84s 2s/step - loss: 1.6904 - accuracy: 0.4059 - val_loss: 2.1309 - val_accuracy: 0.2898\n",
      "Epoch 20/100\n",
      "53/53 [==============================] - 69s 1s/step - loss: 1.6229 - accuracy: 0.4267 - val_loss: 2.1138 - val_accuracy: 0.2922\n",
      "Epoch 21/100\n",
      "53/53 [==============================] - 67s 1s/step - loss: 1.6774 - accuracy: 0.4071 - val_loss: 2.0986 - val_accuracy: 0.3064\n",
      "Epoch 22/100\n",
      "53/53 [==============================] - 67s 1s/step - loss: 1.5852 - accuracy: 0.4338 - val_loss: 2.1917 - val_accuracy: 0.2803\n",
      "Epoch 23/100\n",
      "53/53 [==============================] - 73s 1s/step - loss: 1.5556 - accuracy: 0.4599 - val_loss: 2.2603 - val_accuracy: 0.2708\n",
      "Epoch 24/100\n",
      "53/53 [==============================] - 83s 2s/step - loss: 1.5619 - accuracy: 0.4564 - val_loss: 2.2071 - val_accuracy: 0.2874\n",
      "Epoch 25/100\n",
      "53/53 [==============================] - 77s 1s/step - loss: 1.4675 - accuracy: 0.5015 - val_loss: 2.1686 - val_accuracy: 0.3064\n",
      "Epoch 26/100\n",
      "53/53 [==============================] - 89s 2s/step - loss: 1.4397 - accuracy: 0.4950 - val_loss: 2.2446 - val_accuracy: 0.3302\n",
      "Epoch 27/100\n",
      "53/53 [==============================] - 74s 1s/step - loss: 1.4034 - accuracy: 0.5223 - val_loss: 2.1374 - val_accuracy: 0.3207\n",
      "Epoch 28/100\n",
      "53/53 [==============================] - 85s 2s/step - loss: 1.3711 - accuracy: 0.5276 - val_loss: 2.2095 - val_accuracy: 0.3112\n",
      "Epoch 29/100\n",
      "53/53 [==============================] - 73s 1s/step - loss: 1.3977 - accuracy: 0.5134 - val_loss: 2.1364 - val_accuracy: 0.3254\n",
      "Epoch 30/100\n",
      "53/53 [==============================] - 75s 1s/step - loss: 1.3378 - accuracy: 0.5377 - val_loss: 2.2792 - val_accuracy: 0.2898\n",
      "Epoch 31/100\n",
      "53/53 [==============================] - 79s 1s/step - loss: 1.2679 - accuracy: 0.5650 - val_loss: 2.2944 - val_accuracy: 0.3135\n",
      "Epoch 32/100\n",
      "53/53 [==============================] - 78s 1s/step - loss: 1.2974 - accuracy: 0.5656 - val_loss: 2.3098 - val_accuracy: 0.3207\n",
      "Epoch 33/100\n",
      "53/53 [==============================] - 83s 2s/step - loss: 1.2233 - accuracy: 0.5786 - val_loss: 2.3463 - val_accuracy: 0.3159\n",
      "Epoch 34/100\n",
      "53/53 [==============================] - 89s 2s/step - loss: 1.1803 - accuracy: 0.5899 - val_loss: 2.3421 - val_accuracy: 0.3468\n",
      "Epoch 35/100\n",
      "53/53 [==============================] - 88s 2s/step - loss: 1.1328 - accuracy: 0.6184 - val_loss: 2.3423 - val_accuracy: 0.3492\n",
      "Epoch 36/100\n",
      "53/53 [==============================] - 84s 2s/step - loss: 1.1457 - accuracy: 0.6142 - val_loss: 2.4135 - val_accuracy: 0.2993\n",
      "Epoch 37/100\n",
      " 6/53 [==>...........................] - ETA: 1:03 - loss: 0.9924 - accuracy: 0.6875"
     ]
    }
   ],
   "source": [
    "epochs = 100\n",
    "history = model.fit(\n",
    "    train_ds,\n",
    "    validation_data = val_ds,\n",
    "    epochs = epochs\n",
    ")"
   ]
  },
  {
   "cell_type": "code",
   "execution_count": null,
   "id": "9fec6292",
   "metadata": {},
   "outputs": [],
   "source": []
  }
 ],
 "metadata": {
  "kernelspec": {
   "display_name": "Python 3 (ipykernel)",
   "language": "python",
   "name": "python3"
  },
  "language_info": {
   "codemirror_mode": {
    "name": "ipython",
    "version": 3
   },
   "file_extension": ".py",
   "mimetype": "text/x-python",
   "name": "python",
   "nbconvert_exporter": "python",
   "pygments_lexer": "ipython3",
   "version": "3.10.1"
  }
 },
 "nbformat": 4,
 "nbformat_minor": 5
}
