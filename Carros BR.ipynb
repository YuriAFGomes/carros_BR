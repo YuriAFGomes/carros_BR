{
 "cells": [
  {
   "cell_type": "code",
   "execution_count": 26,
   "id": "4ce27c4f",
   "metadata": {},
   "outputs": [],
   "source": [
    "import tensorflow as tf\n",
    "from tensorflow import keras\n",
    "from tensorflow.keras import layers\n",
    "from tensorflow.keras.models import Sequential"
   ]
  },
  {
   "cell_type": "code",
   "execution_count": 27,
   "id": "b3653ba0",
   "metadata": {},
   "outputs": [],
   "source": [
    "data_dir = 'imagens'\n",
    "img_height = 300\n",
    "img_width = 300\n",
    "batch_size = 32"
   ]
  },
  {
   "cell_type": "code",
   "execution_count": 28,
   "id": "0397d9b6",
   "metadata": {},
   "outputs": [
    {
     "name": "stdout",
     "output_type": "stream",
     "text": [
      "Found 2106 files belonging to 10 classes.\n",
      "Using 1685 files for training.\n"
     ]
    }
   ],
   "source": [
    "train_ds = tf.keras.utils.image_dataset_from_directory(\n",
    "    data_dir,\n",
    "    validation_split=0.2,\n",
    "    subset=\"training\",\n",
    "    seed=123,\n",
    "    image_size=(img_height, img_width),\n",
    "    batch_size=batch_size\n",
    ")"
   ]
  },
  {
   "cell_type": "code",
   "execution_count": 29,
   "id": "f186ade7",
   "metadata": {},
   "outputs": [
    {
     "name": "stdout",
     "output_type": "stream",
     "text": [
      "Found 2106 files belonging to 10 classes.\n",
      "Using 421 files for validation.\n"
     ]
    }
   ],
   "source": [
    "val_ds = tf.keras.utils.image_dataset_from_directory(\n",
    "    data_dir,\n",
    "    validation_split = 0.2,\n",
    "    subset = \"validation\",\n",
    "    seed=123,\n",
    "    image_size=(img_height, img_width),\n",
    "    batch_size=batch_size\n",
    ")"
   ]
  },
  {
   "cell_type": "code",
   "execution_count": 30,
   "id": "81aed804",
   "metadata": {},
   "outputs": [],
   "source": [
    "class_names = train_ds.class_names"
   ]
  },
  {
   "cell_type": "code",
   "execution_count": 51,
   "id": "e567db11",
   "metadata": {},
   "outputs": [],
   "source": [
    "AUTOTUNE = tf.data.AUTOTUNE\n",
    "\n",
    "train_ds = train_ds.cache().shuffle(1000).prefetch(buffer_size=AUTOTUNE)\n",
    "val_ds = val_ds.cache().prefetch(buffer_size=AUTOTUNE)"
   ]
  },
  {
   "cell_type": "code",
   "execution_count": 52,
   "id": "d019ecde",
   "metadata": {
    "scrolled": true
   },
   "outputs": [],
   "source": [
    "num_classes = len(class_names)\n",
    "\n",
    "model = Sequential([\n",
    "  layers.Rescaling(1./255, input_shape=(img_height, img_width, 3)),\n",
    "    layers.RandomFlip(),\n",
    "    layers.RandomZoom(height_factor=0.3),\n",
    "    layers.Conv2D(16, 3, padding='same', activation='relu'),\n",
    "  layers.MaxPooling2D(),\n",
    "  layers.Conv2D(32, 3, padding='same', activation='relu'),\n",
    "  layers.MaxPooling2D(),\n",
    "  layers.Conv2D(64, 3, padding='same', activation='relu'),\n",
    "  layers.MaxPooling2D(),\n",
    "  layers.Flatten(),\n",
    "  layers.Dense(128, activation='relu'),\n",
    "  layers.Dense(num_classes)\n",
    "])"
   ]
  },
  {
   "cell_type": "code",
   "execution_count": 53,
   "id": "1055aa64",
   "metadata": {},
   "outputs": [],
   "source": [
    "model.compile(optimizer='adam',\n",
    "             loss=tf.keras.losses.SparseCategoricalCrossentropy(from_logits=True),\n",
    "             metrics=['accuracy'])"
   ]
  },
  {
   "cell_type": "code",
   "execution_count": 54,
   "id": "f09bbea4",
   "metadata": {},
   "outputs": [
    {
     "name": "stdout",
     "output_type": "stream",
     "text": [
      "Epoch 1/40\n",
      "53/53 [==============================] - 81s 2s/step - loss: 2.5043 - accuracy: 0.1365 - val_loss: 2.2544 - val_accuracy: 0.1876\n",
      "Epoch 2/40\n",
      "53/53 [==============================] - 69s 1s/step - loss: 2.2155 - accuracy: 0.2006 - val_loss: 2.1593 - val_accuracy: 0.2162\n",
      "Epoch 3/40\n",
      "53/53 [==============================] - 66s 1s/step - loss: 2.1545 - accuracy: 0.2190 - val_loss: 2.1116 - val_accuracy: 0.2589\n",
      "Epoch 4/40\n",
      "53/53 [==============================] - 67s 1s/step - loss: 2.1126 - accuracy: 0.2309 - val_loss: 2.1411 - val_accuracy: 0.2280\n",
      "Epoch 5/40\n",
      "53/53 [==============================] - 69s 1s/step - loss: 2.0643 - accuracy: 0.2392 - val_loss: 2.0599 - val_accuracy: 0.2494\n",
      "Epoch 6/40\n",
      "53/53 [==============================] - 66s 1s/step - loss: 2.0198 - accuracy: 0.2736 - val_loss: 2.1315 - val_accuracy: 0.2423\n",
      "Epoch 7/40\n",
      "53/53 [==============================] - 66s 1s/step - loss: 1.9729 - accuracy: 0.2866 - val_loss: 2.0562 - val_accuracy: 0.2565\n",
      "Epoch 8/40\n",
      "53/53 [==============================] - 67s 1s/step - loss: 1.9349 - accuracy: 0.2967 - val_loss: 2.0726 - val_accuracy: 0.2399\n",
      "Epoch 9/40\n",
      "53/53 [==============================] - 67s 1s/step - loss: 1.8792 - accuracy: 0.3300 - val_loss: 2.0693 - val_accuracy: 0.2969\n",
      "Epoch 10/40\n",
      "53/53 [==============================] - 66s 1s/step - loss: 1.8281 - accuracy: 0.3763 - val_loss: 2.1179 - val_accuracy: 0.2660\n",
      "Epoch 11/40\n",
      "53/53 [==============================] - 72s 1s/step - loss: 1.8018 - accuracy: 0.3668 - val_loss: 2.1446 - val_accuracy: 0.2637\n",
      "Epoch 12/40\n",
      "53/53 [==============================] - 67s 1s/step - loss: 1.7342 - accuracy: 0.3947 - val_loss: 2.1477 - val_accuracy: 0.2803\n",
      "Epoch 13/40\n",
      "53/53 [==============================] - 67s 1s/step - loss: 1.6708 - accuracy: 0.4279 - val_loss: 2.0670 - val_accuracy: 0.2969\n",
      "Epoch 14/40\n",
      "53/53 [==============================] - 69s 1s/step - loss: 1.6599 - accuracy: 0.4208 - val_loss: 2.2515 - val_accuracy: 0.2827\n",
      "Epoch 15/40\n",
      "53/53 [==============================] - 69s 1s/step - loss: 1.6033 - accuracy: 0.4469 - val_loss: 2.0824 - val_accuracy: 0.3254\n",
      "Epoch 16/40\n",
      "53/53 [==============================] - 67s 1s/step - loss: 1.5290 - accuracy: 0.4831 - val_loss: 2.0870 - val_accuracy: 0.3040\n",
      "Epoch 17/40\n",
      "53/53 [==============================] - 67s 1s/step - loss: 1.5026 - accuracy: 0.4855 - val_loss: 2.0325 - val_accuracy: 0.3349\n",
      "Epoch 18/40\n",
      "53/53 [==============================] - 66s 1s/step - loss: 1.4310 - accuracy: 0.5139 - val_loss: 2.0872 - val_accuracy: 0.3492\n",
      "Epoch 19/40\n",
      "53/53 [==============================] - 66s 1s/step - loss: 1.3832 - accuracy: 0.5335 - val_loss: 2.0732 - val_accuracy: 0.3682\n",
      "Epoch 20/40\n",
      "53/53 [==============================] - 67s 1s/step - loss: 1.3347 - accuracy: 0.5454 - val_loss: 2.1106 - val_accuracy: 0.3492\n",
      "Epoch 21/40\n",
      "53/53 [==============================] - 67s 1s/step - loss: 1.2738 - accuracy: 0.5804 - val_loss: 2.2383 - val_accuracy: 0.3444\n",
      "Epoch 22/40\n",
      "53/53 [==============================] - 67s 1s/step - loss: 1.2658 - accuracy: 0.5911 - val_loss: 2.2001 - val_accuracy: 0.3420\n",
      "Epoch 23/40\n",
      "53/53 [==============================] - 66s 1s/step - loss: 1.1757 - accuracy: 0.6208 - val_loss: 2.3915 - val_accuracy: 0.3112\n",
      "Epoch 24/40\n",
      "53/53 [==============================] - 67s 1s/step - loss: 1.1799 - accuracy: 0.6101 - val_loss: 2.1598 - val_accuracy: 0.3610\n",
      "Epoch 25/40\n",
      "53/53 [==============================] - 66s 1s/step - loss: 1.0662 - accuracy: 0.6499 - val_loss: 2.3394 - val_accuracy: 0.3587\n",
      "Epoch 26/40\n",
      "53/53 [==============================] - 66s 1s/step - loss: 1.0680 - accuracy: 0.6469 - val_loss: 2.2919 - val_accuracy: 0.3325\n",
      "Epoch 27/40\n",
      "53/53 [==============================] - 64s 1s/step - loss: 1.0547 - accuracy: 0.6629 - val_loss: 2.1915 - val_accuracy: 0.3634\n",
      "Epoch 28/40\n",
      "53/53 [==============================] - 64s 1s/step - loss: 0.9735 - accuracy: 0.7021 - val_loss: 2.2233 - val_accuracy: 0.3777\n",
      "Epoch 29/40\n",
      "53/53 [==============================] - 64s 1s/step - loss: 0.8988 - accuracy: 0.7163 - val_loss: 2.2723 - val_accuracy: 0.3444\n",
      "Epoch 30/40\n",
      "53/53 [==============================] - 63s 1s/step - loss: 0.9195 - accuracy: 0.7074 - val_loss: 2.3383 - val_accuracy: 0.3468\n",
      "Epoch 31/40\n",
      "53/53 [==============================] - 64s 1s/step - loss: 0.8928 - accuracy: 0.7318 - val_loss: 2.2644 - val_accuracy: 0.3587\n",
      "Epoch 32/40\n",
      "53/53 [==============================] - 64s 1s/step - loss: 0.7787 - accuracy: 0.7466 - val_loss: 2.5100 - val_accuracy: 0.3634\n",
      "Epoch 33/40\n",
      "53/53 [==============================] - 63s 1s/step - loss: 0.7575 - accuracy: 0.7614 - val_loss: 2.3281 - val_accuracy: 0.3777\n",
      "Epoch 34/40\n",
      "53/53 [==============================] - 63s 1s/step - loss: 0.8191 - accuracy: 0.7484 - val_loss: 2.4826 - val_accuracy: 0.3634\n",
      "Epoch 35/40\n",
      "53/53 [==============================] - 64s 1s/step - loss: 0.6599 - accuracy: 0.7786 - val_loss: 2.8061 - val_accuracy: 0.3895\n",
      "Epoch 36/40\n",
      "53/53 [==============================] - 63s 1s/step - loss: 0.7098 - accuracy: 0.7822 - val_loss: 2.4960 - val_accuracy: 0.3658\n",
      "Epoch 37/40\n",
      "53/53 [==============================] - 64s 1s/step - loss: 0.6500 - accuracy: 0.7893 - val_loss: 2.6757 - val_accuracy: 0.3610\n",
      "Epoch 38/40\n",
      "53/53 [==============================] - 63s 1s/step - loss: 0.6584 - accuracy: 0.8030 - val_loss: 2.6744 - val_accuracy: 0.3729\n",
      "Epoch 39/40\n",
      "53/53 [==============================] - 64s 1s/step - loss: 0.6101 - accuracy: 0.8000 - val_loss: 2.5762 - val_accuracy: 0.4109\n",
      "Epoch 40/40\n",
      "53/53 [==============================] - 64s 1s/step - loss: 0.5904 - accuracy: 0.8190 - val_loss: 2.8386 - val_accuracy: 0.3777\n"
     ]
    }
   ],
   "source": [
    "epochs = 40\n",
    "history = model.fit(\n",
    "    train_ds,\n",
    "    validation_data = val_ds,\n",
    "    epochs = epochs\n",
    ")"
   ]
  },
  {
   "cell_type": "code",
   "execution_count": null,
   "id": "9fec6292",
   "metadata": {},
   "outputs": [],
   "source": []
  }
 ],
 "metadata": {
  "kernelspec": {
   "display_name": "Python 3 (ipykernel)",
   "language": "python",
   "name": "python3"
  },
  "language_info": {
   "codemirror_mode": {
    "name": "ipython",
    "version": 3
   },
   "file_extension": ".py",
   "mimetype": "text/x-python",
   "name": "python",
   "nbconvert_exporter": "python",
   "pygments_lexer": "ipython3",
   "version": "3.10.1"
  }
 },
 "nbformat": 4,
 "nbformat_minor": 5
}
